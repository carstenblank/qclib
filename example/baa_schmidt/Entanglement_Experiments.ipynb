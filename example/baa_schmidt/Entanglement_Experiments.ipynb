{
 "cells": [
  {
   "cell_type": "code",
   "execution_count": null,
   "outputs": [],
   "source": [
    "import datetime\n",
    "from multiprocessing import Pool\n",
    "\n",
    "import numpy as np\n",
    "import pandas as pd\n",
    "\n",
    "from test.test_baa import execute_experiment"
   ],
   "metadata": {
    "collapsed": false,
    "pycharm": {
     "name": "#%%\n"
    }
   }
  },
  {
   "cell_type": "code",
   "execution_count": null,
   "outputs": [],
   "source": [
    "use_parallel = True"
   ],
   "metadata": {
    "collapsed": false,
    "pycharm": {
     "name": "#%%\n"
    }
   }
  },
  {
   "cell_type": "code",
   "execution_count": null,
   "outputs": [],
   "source": [
    "num_qubits = 7\n",
    "entanglement_bounds = (0.4, 1.0)\n",
    "max_fidelity_loss = np.linspace(0.1, 1.0, 10)\n",
    "\n",
    "data = [(i, num_qubits, entanglement_bounds, max_fidelity_loss) for i in range(100)]\n",
    "if use_parallel:\n",
    "    with Pool() as pool:\n",
    "        result = pool.starmap(execute_experiment, data)\n",
    "else:\n",
    "    result = [execute_experiment(*d) for d in data]"
   ],
   "metadata": {
    "collapsed": false,
    "pycharm": {
     "name": "#%%\n"
    }
   }
  },
  {
   "cell_type": "code",
   "execution_count": null,
   "outputs": [],
   "source": [
    "df = pd.concat(result, ignore_index=True)\n",
    "df"
   ],
   "metadata": {
    "collapsed": false,
    "pycharm": {
     "name": "#%%\n"
    }
   }
  },
  {
   "cell_type": "code",
   "execution_count": null,
   "outputs": [],
   "source": [
    "# Tests:\n",
    "# Calculation Tests\n",
    "# The benchmark will not change the state at all, so it must be essentially zero\n",
    "df['benchmark_fidelity_loss_pass'] = np.abs(df['real_fidelity_loss_benchmark']) < 1e-6\n",
    "# The expected / predicted fidelity loss must be less or equal to the max fidelity loss\n",
    "df['approximation_calculation_pass'] = df['max_fidelity_loss'] >= df['total_fidelity_loss']\n",
    "\n",
    "# The real Tests\n",
    "# The real measured fidelity measure must be less or equal to the configured mx fidelity loss\n",
    "df['real_approximation_calculation_pass'] = df['real_fidelity_loss'] < df['max_fidelity_loss']\n",
    "# The predicted maximum CNOT gates and the no-approximation count should be within 10%\n",
    "df['cnot_prediction_calculation_pass'] = np.abs(df['real_cnots_no_approx'] - df['cnots']) < 0.1 * df['cnots']\n",
    "# The predicted CNOT gates should be within an error margin of 10%\n",
    "df['saved_cnots_calculation_pass'] = np.abs(df['cnots'] - df['total_saved_cnots'] - df['real_cnots']) <= 0.1 * (df['cnots'] - df['total_saved_cnots'])"
   ],
   "metadata": {
    "collapsed": false,
    "pycharm": {
     "name": "#%%\n"
    }
   }
  },
  {
   "cell_type": "code",
   "execution_count": null,
   "outputs": [],
   "source": [
    "timestamp_sec = int(datetime.datetime.now().timestamp())\n",
    "df.to_pickle(f'./{timestamp_sec}.test_baa.pickle')\n",
    "df.to_csv(f'./{timestamp_sec}.test_baa.csv')"
   ],
   "metadata": {
    "collapsed": false,
    "pycharm": {
     "name": "#%%\n"
    }
   }
  }
 ],
 "metadata": {
  "kernelspec": {
   "display_name": "Python 3",
   "language": "python",
   "name": "python3"
  },
  "language_info": {
   "codemirror_mode": {
    "name": "ipython",
    "version": 2
   },
   "file_extension": ".py",
   "mimetype": "text/x-python",
   "name": "python",
   "nbconvert_exporter": "python",
   "pygments_lexer": "ipython2",
   "version": "2.7.6"
  }
 },
 "nbformat": 4,
 "nbformat_minor": 0
}